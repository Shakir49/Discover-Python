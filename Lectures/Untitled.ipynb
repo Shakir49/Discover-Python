{
 "cells": [
  {
   "cell_type": "code",
   "execution_count": 1,
   "metadata": {},
   "outputs": [
    {
     "name": "stdout",
     "output_type": "stream",
     "text": [
      "['', 'Hello', 'Shifuddin']\n"
     ]
    }
   ],
   "source": [
    "print (\" Hello Shifuddin\".split(\" \"))"
   ]
  },
  {
   "cell_type": "code",
   "execution_count": 6,
   "metadata": {},
   "outputs": [
    {
     "name": "stdout",
     "output_type": "stream",
     "text": [
      "Please input a number: 2\n",
      "Your number is smaller than 10\n"
     ]
    }
   ],
   "source": [
    "number = input (\"Please input a number: \")\n",
    "if int(number)< 10:\n",
    "    print (\"Your number is smaller than 10\")\n",
    "    \n",
    "else:\n",
    "    print (\"Your number is larger than 10\")\n",
    "\n",
    "\n",
    "print (\"end of program\")\n",
    "    "
   ]
  },
  {
   "cell_type": "code",
   "execution_count": 14,
   "metadata": {},
   "outputs": [
    {
     "name": "stdout",
     "output_type": "stream",
     "text": [
      "execute\n"
     ]
    }
   ],
   "source": [
    "if 7:\n",
    "    print (\"execute\")"
   ]
  },
  {
   "cell_type": "code",
   "execution_count": 13,
   "metadata": {},
   "outputs": [],
   "source": [
    "if 0:\n",
    "    print (\"won't execute\")"
   ]
  },
  {
   "cell_type": "code",
   "execution_count": 17,
   "metadata": {},
   "outputs": [
    {
     "name": "stdout",
     "output_type": "stream",
     "text": [
      "Other part of the world\n"
     ]
    }
   ],
   "source": [
    "country_name = \"Bangladesh\"\n",
    "address = \"Khulna, Bangladesh\"\n",
    "if country_name in address:\n",
    "    print (\"You are from Bangladesh\")\n",
    "else:\n",
    "    print (\"Other part of the world\")"
   ]
  },
  {
   "cell_type": "code",
   "execution_count": 19,
   "metadata": {},
   "outputs": [
    {
     "name": "stdout",
     "output_type": "stream",
     "text": [
      "9\n",
      "8\n",
      "7\n",
      "6\n",
      "5\n",
      "4\n",
      "3\n",
      "2\n",
      "1\n",
      "0\n",
      "Out of the loop\n"
     ]
    }
   ],
   "source": [
    "shakir = 10\n",
    "while shakir > 0:\n",
    "    shakir = shakir - 1\n",
    "    print (shakir)\n",
    "    \n",
    "print (\"Out of the loop\")"
   ]
  },
  {
   "cell_type": "code",
   "execution_count": 23,
   "metadata": {},
   "outputs": [
    {
     "name": "stdout",
     "output_type": "stream",
     "text": [
      "0\n",
      "1\n",
      "2\n",
      "3\n",
      "4\n"
     ]
    }
   ],
   "source": [
    "number = 0\n",
    "for number in range (0, 5):\n",
    "    print (number)\n",
    "    number = number  + 1 "
   ]
  },
  {
   "cell_type": "code",
   "execution_count": 24,
   "metadata": {},
   "outputs": [
    {
     "name": "stdout",
     "output_type": "stream",
     "text": [
      "\u001b[H\u001b[2J"
     ]
    }
   ],
   "source": [
    "clear\n"
   ]
  },
  {
   "cell_type": "code",
   "execution_count": null,
   "metadata": {},
   "outputs": [],
   "source": []
  }
 ],
 "metadata": {
  "kernelspec": {
   "display_name": "Python 3",
   "language": "python",
   "name": "python3"
  },
  "language_info": {
   "codemirror_mode": {
    "name": "ipython",
    "version": 3
   },
   "file_extension": ".py",
   "mimetype": "text/x-python",
   "name": "python",
   "nbconvert_exporter": "python",
   "pygments_lexer": "ipython3",
   "version": "3.8.5"
  }
 },
 "nbformat": 4,
 "nbformat_minor": 4
}
