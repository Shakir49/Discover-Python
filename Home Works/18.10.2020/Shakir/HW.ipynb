{
 "cells": [
  {
   "cell_type": "code",
   "execution_count": 2,
   "metadata": {},
   "outputs": [
    {
     "name": "stdout",
     "output_type": "stream",
     "text": [
      "Country Name Bangladesh\n",
      "BANGLADESH\n"
     ]
    }
   ],
   "source": [
    "x= input(\"Country Name \")\n",
    "print (x.upper())"
   ]
  },
  {
   "cell_type": "code",
   "execution_count": 3,
   "metadata": {},
   "outputs": [
    {
     "name": "stdout",
     "output_type": "stream",
     "text": [
      "itopiNonavevAnoNipoTi\n"
     ]
    }
   ],
   "source": [
    "k= \"iTopiNonAvevanoNipoti\"\n",
    "reversed = k[::-1]\n",
    "print (reversed)"
   ]
  },
  {
   "cell_type": "code",
   "execution_count": 4,
   "metadata": {},
   "outputs": [
    {
     "name": "stdout",
     "output_type": "stream",
     "text": [
      "Corona Virus is also known as Covid-19\n"
     ]
    }
   ],
   "source": [
    "a= \"Corona\"\n",
    "b= \" Virus\"\n",
    "c= \" is also known as\"\n",
    "d= \" Covid-19\"\n",
    "e= (a+b+c+d)\n",
    "print (e)"
   ]
  },
  {
   "cell_type": "code",
   "execution_count": 6,
   "metadata": {},
   "outputs": [
    {
     "name": "stdout",
     "output_type": "stream",
     "text": [
      "the difference between the strings is 17\n"
     ]
    }
   ],
   "source": [
    "f= (len(e)-len(a+b+d))\n",
    "print (\"the difference between the strings is\",(f))"
   ]
  },
  {
   "cell_type": "code",
   "execution_count": 7,
   "metadata": {},
   "outputs": [
    {
     "name": "stdout",
     "output_type": "stream",
     "text": [
      "rikahs si eman yM\n"
     ]
    }
   ],
   "source": [
    "n= \"My name is shakir\"\n",
    "reversed = n[::-1]\n",
    "print (reversed)"
   ]
  },
  {
   "cell_type": "code",
   "execution_count": 8,
   "metadata": {},
   "outputs": [
    {
     "name": "stdout",
     "output_type": "stream",
     "text": [
      "My name is shakir\n",
      "I live in Studentenstadt\n",
      "I LIVE IN STUDENTENSTADT\n",
      "The difference between the string length is -10\n"
     ]
    }
   ],
   "source": [
    "print (reversed[::-1])\n",
    "Location= input(\"I live in \")\n",
    "I= \"i live in \"+Location\n",
    "print (I.upper())\n",
    "print (\"The difference between the string length is\", (len(Location)-len(I)))"
   ]
  },
  {
   "cell_type": "code",
   "execution_count": null,
   "metadata": {},
   "outputs": [],
   "source": [
    "#Terminal>>pwd\n",
    "#Terminal>> cd Downloads>> ls>> bash**miniconda file name**\n",
    "#(now installation is done after reading and agreeing)\n",
    "#Terminal>> conda list\n",
    "#Terminal>> conda info\n",
    "#Terminal>> conda update conda\n",
    "#Terminal>> conda create --name basicprograminng python=3.8\n",
    "#Terminal>> conda activate basicprogramming\n",
    "#(now a new environment is created named basicprogramming)\n",
    "#Terminal>> nano helloworld.py>> print (\"Hello World\")>> Ctrl+X\n",
    "#Terminal>> python helloworld.py\n",
    "#(now our first programming of printing hello world is done)\n",
    "#Terminal>> conda install jupyter\n",
    "#Terminal>> jupyter notebook\n",
    "#(now our jupyter notebook setup is done and we can insert command in jupyter through web browser)"
   ]
  },
  {
   "cell_type": "code",
   "execution_count": null,
   "metadata": {},
   "outputs": [],
   "source": []
  }
 ],
 "metadata": {
  "kernelspec": {
   "display_name": "Python 3",
   "language": "python",
   "name": "python3"
  },
  "language_info": {
   "codemirror_mode": {
    "name": "ipython",
    "version": 3
   },
   "file_extension": ".py",
   "mimetype": "text/x-python",
   "name": "python",
   "nbconvert_exporter": "python",
   "pygments_lexer": "ipython3",
   "version": "3.8.5"
  }
 },
 "nbformat": 4,
 "nbformat_minor": 4
}
